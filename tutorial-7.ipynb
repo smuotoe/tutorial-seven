{
 "cells": [
  {
   "cell_type": "code",
   "id": "initial_id",
   "metadata": {
    "collapsed": true,
    "ExecuteTime": {
     "end_time": "2025-03-01T14:59:29.576245Z",
     "start_time": "2025-03-01T14:59:19.695378Z"
    }
   },
   "source": [
    "import warnings\n",
    "import optuna\n",
    "import pandas as pd\n",
    "from lightgbm import LGBMClassifier\n",
    "from sklearn.model_selection import train_test_split, cross_val_score\n",
    "\n",
    "warnings.filterwarnings('ignore', category=UserWarning)"
   ],
   "outputs": [],
   "execution_count": 1
  },
  {
   "metadata": {},
   "cell_type": "markdown",
   "source": [
    "## Demo 1\n",
    "Find the value of x that minimizes the function: f(x) = (x - 2)^2 + 1"
   ],
   "id": "a63614f970c805f8"
  },
  {
   "metadata": {},
   "cell_type": "code",
   "source": [
    "# Find the value of x that minimizes the function: f(x) = (x - 2)^2 + 1\n",
    "\n",
    "def objective(trial):\n",
    "    pass\n",
    "\n",
    "# Create and run study\n",
    "study = optuna.create_study(direction='minimize')\n",
    "study.optimize(objective, n_trials=100)"
   ],
   "id": "504af71da0eb537",
   "outputs": [],
   "execution_count": null
  },
  {
   "metadata": {},
   "cell_type": "code",
   "source": [
    "print(f\"{study.best_params = }\")\n",
    "print(f\"{study.best_value = }\")"
   ],
   "id": "ac851427f9ba63e3",
   "outputs": [],
   "execution_count": null
  },
  {
   "metadata": {},
   "cell_type": "markdown",
   "source": [
    "## Exercise 1\n",
    "Find the values of x and y that mininize the function: f(x,y) = (x - 2)^2 + (y + 3)^2 + 1"
   ],
   "id": "451f0d4a91424b9e"
  },
  {
   "metadata": {
    "ExecuteTime": {
     "end_time": "2025-02-22T14:52:23.534636Z",
     "start_time": "2025-02-22T14:52:23.534636Z"
    }
   },
   "cell_type": "code",
   "source": [
    "def objective(trial):\n",
    "    pass\n",
    "\n",
    "# Create and run study\n",
    "study = optuna.create_study(direction='minimize')\n",
    "study.optimize(objective, n_trials=100)"
   ],
   "id": "db959359de5a418e",
   "outputs": [],
   "execution_count": null
  },
  {
   "metadata": {},
   "cell_type": "markdown",
   "source": "## Visualization",
   "id": "bc01d35df4708955"
  },
  {
   "metadata": {
    "ExecuteTime": {
     "end_time": "2025-02-22T14:52:23.535637Z",
     "start_time": "2025-02-22T14:52:23.534636Z"
    }
   },
   "cell_type": "code",
   "source": [
    "# Visualize the optimization process\n",
    "\n",
    "# Get optimization history\n",
    "optuna.visualization.plot_optimization_history(study)\n"
   ],
   "id": "87479a0e2916e76d",
   "outputs": [],
   "execution_count": null
  },
  {
   "metadata": {
    "ExecuteTime": {
     "end_time": "2025-02-22T14:52:23.536304Z",
     "start_time": "2025-02-22T14:52:23.536304Z"
    }
   },
   "cell_type": "code",
   "source": [
    "# You can also visualize parameter importance\n",
    "optuna.visualization.plot_param_importances(study)\n"
   ],
   "id": "1c43464e166ebf19",
   "outputs": [],
   "execution_count": null
  },
  {
   "metadata": {},
   "cell_type": "markdown",
   "source": "",
   "id": "a8da7b1cac4f1dba"
  },
  {
   "metadata": {},
   "cell_type": "markdown",
   "source": "## Optimize LightGBM estimator",
   "id": "a37b26a483f1d5c2"
  },
  {
   "metadata": {},
   "cell_type": "markdown",
   "source": "### Prepare Dataset",
   "id": "f496e6866d73d403"
  },
  {
   "metadata": {
    "ExecuteTime": {
     "end_time": "2025-02-22T15:00:13.363391Z",
     "start_time": "2025-02-22T15:00:13.352938Z"
    }
   },
   "cell_type": "code",
   "source": [
    "# Load and prepare data\n",
    "from sklearn.datasets import load_breast_cancer\n",
    "\n",
    "data = load_breast_cancer()\n",
    "print(f\"Dataset shape: {data.data.shape}\")  # 569 samples, 30 features\n",
    "print(\"\\nTarget distribution:\")\n",
    "print(f\"Malignant (0): {(data.target == 0).sum()}\")\n",
    "print(f\"Benign (1): {(data.target == 1).sum()}\")\n",
    "print(\"\\nFeatures:\", data.feature_names.tolist())\n",
    "\n",
    "X_train, X_test, y_train, y_test = train_test_split(\n",
    "    data.data, data.target, test_size=0.2, random_state=42\n",
    ")\n",
    "feature_names = data.feature_names.tolist()\n",
    "X_train = pd.DataFrame(X_train, columns=feature_names)\n",
    "X_test = pd.DataFrame(X_test, columns=feature_names)"
   ],
   "id": "a48afba5ff0a36a0",
   "outputs": [
    {
     "name": "stdout",
     "output_type": "stream",
     "text": [
      "Dataset shape: (569, 30)\n",
      "\n",
      "Target distribution:\n",
      "Malignant (0): 212\n",
      "Benign (1): 357\n",
      "\n",
      "Features: ['mean radius', 'mean texture', 'mean perimeter', 'mean area', 'mean smoothness', 'mean compactness', 'mean concavity', 'mean concave points', 'mean symmetry', 'mean fractal dimension', 'radius error', 'texture error', 'perimeter error', 'area error', 'smoothness error', 'compactness error', 'concavity error', 'concave points error', 'symmetry error', 'fractal dimension error', 'worst radius', 'worst texture', 'worst perimeter', 'worst area', 'worst smoothness', 'worst compactness', 'worst concavity', 'worst concave points', 'worst symmetry', 'worst fractal dimension']\n"
     ]
    }
   ],
   "execution_count": 27
  },
  {
   "metadata": {},
   "cell_type": "code",
   "source": [
    "def objective(trial):\n",
    "    # Define the hyperparameters to optimize\n",
    "    params = {\n",
    "        'learning_rate': trial.suggest_float('learning_rate', 0.01, 0.1),\n",
    "        'n_estimators': trial.suggest_int('n_estimators', 100, 1000),\n",
    "        'num_leaves': trial.suggest_int('num_leaves', 20, 50),\n",
    "        'max_depth': trial.suggest_int('max_depth', 3, 8),\n",
    "        'min_child_samples': trial.suggest_int('min_child_samples', 5, 100),\n",
    "        'subsample': trial.suggest_float('subsample', 0.5, 1.0),\n",
    "        'colsample_bytree': trial.suggest_float('colsample_bytree', 0.5, 1.0),\n",
    "        'verbose': -1  # Add this to suppress LightGBM logger\n",
    "\n",
    "    }\n",
    "    \n",
    "    # Create model with suggested hyperparameters\n",
    "    model = LGBMClassifier(**params, random_state=42)\n",
    "    \n",
    "    # Use cross-validation to evaluate the model\n",
    "    cv_scores = cross_val_score(\n",
    "        model, \n",
    "        X_train, \n",
    "        y_train, \n",
    "        cv=5,\n",
    "        scoring='accuracy'\n",
    "    )\n",
    "    \n",
    "    # Return mean CV score\n",
    "    return cv_scores.mean()  \n",
    "\n",
    "# Create and run study\n",
    "study = optuna.create_study(direction='maximize')\n",
    "study.optimize(objective, n_trials=100)"
   ],
   "id": "9a4326907b1349d9",
   "outputs": [],
   "execution_count": null
  },
  {
   "metadata": {},
   "cell_type": "code",
   "source": [
    "print(f\"{study.best_params}\")\n",
    "print(f\"{study.best_value * 100:.2f}%\")"
   ],
   "id": "cf671c47ae1a69c",
   "outputs": [],
   "execution_count": null
  },
  {
   "metadata": {},
   "cell_type": "markdown",
   "source": "## Exercise 2:",
   "id": "e44fe6382f166fb8"
  },
  {
   "metadata": {},
   "cell_type": "code",
   "outputs": [],
   "execution_count": null,
   "source": [
    "import optuna\n",
    "import torch\n",
    "import torch.nn as nn\n",
    "from sklearn.preprocessing import StandardScaler\n",
    "import numpy as np\n",
    "from torch.utils.data import TensorDataset, DataLoader\n",
    "\n",
    "# Set random seeds for reproducibility\n",
    "torch.manual_seed(42)\n",
    "np.random.seed(42)\n",
    "\n",
    "scaler = StandardScaler()\n",
    "# Using the same breast cancer dataset defined above\n",
    "X_train = scaler.fit_transform(X_train)\n",
    "X_test = scaler.transform(X_test)\n",
    "\n",
    "# Convert to PyTorch tensors\n",
    "X_train = torch.FloatTensor(X_train)\n",
    "y_train = torch.LongTensor(y_train)\n",
    "X_test = torch.FloatTensor(X_test)\n",
    "y_test = torch.LongTensor(y_test)\n",
    "\n",
    "class SimpleNet(nn.Module):\n",
    "    def __init__(self, input_size, hidden_size, dropout_rate=0.1):\n",
    "        super(SimpleNet, self).__init__()\n",
    "        self.layer = nn.Linear(input_size, hidden_size)\n",
    "        self.activation = nn.ReLU()\n",
    "        self.dropout = nn.Dropout(dropout_rate)\n",
    "        self.output = nn.Linear(hidden_size, 2)\n",
    "        \n",
    "    def forward(self, x):\n",
    "        x = self.layer(x)\n",
    "        x = self.activation(x)\n",
    "        x = self.dropout(x)\n",
    "        x = self.output(x)\n",
    "        return x\n",
    "\n",
    "def train_model(model, train_loader, criterion, optimizer, device='cpu'):\n",
    "    model.train()\n",
    "    total_loss = 0\n",
    "    for batch_X, batch_y in train_loader:\n",
    "        batch_X, batch_y = batch_X.to(device), batch_y.to(device)\n",
    "        \n",
    "        optimizer.zero_grad()\n",
    "        outputs = model(batch_X)\n",
    "        loss = criterion(outputs, batch_y)\n",
    "        loss.backward()\n",
    "        optimizer.step()\n",
    "        \n",
    "        total_loss += loss.item()\n",
    "    return total_loss / len(train_loader)\n",
    "\n",
    "def evaluate_model(model, test_loader, device='cpu'):\n",
    "    model.eval()\n",
    "    correct = 0\n",
    "    total = 0\n",
    "    with torch.no_grad():\n",
    "        for batch_X, batch_y in test_loader:\n",
    "            batch_X, batch_y = batch_X.to(device), batch_y.to(device)\n",
    "            outputs = model(batch_X)\n",
    "            _, predicted = torch.max(outputs.data, 1)\n",
    "            total += batch_y.size(0)\n",
    "            correct += (predicted == batch_y).sum().item()\n",
    "    return correct / total\n",
    "\n",
    "def objective(trial):\n",
    "    # Student Task 1: Define hyperparameters to optimize\n",
    "    # Use trial.suggest_float, trial.suggest_int, etc.\n",
    "    # Example format:\n",
    "    # hidden_size = trial.suggest_int('hidden_size', min_value, max_value)\n",
    "    # learning_rate = \n",
    "    # dropout_rate = \n",
    "    # batch_size = \n",
    "    # n_epochs = \n",
    "    \n",
    "    # Create model and move to device\n",
    "    device = torch.device('cuda' if torch.cuda.is_available() else 'cpu')\n",
    "    model = SimpleNet(input_size=20, \n",
    "                     hidden_size=hidden_size, \n",
    "                     dropout_rate=dropout_rate).to(device)\n",
    "    \n",
    "    # Create data loaders\n",
    "    train_dataset = TensorDataset(X_train, y_train)\n",
    "    train_loader = DataLoader(train_dataset, batch_size=batch_size, shuffle=True)\n",
    "    test_dataset = TensorDataset(X_test, y_test)\n",
    "    test_loader = DataLoader(test_dataset, batch_size=batch_size, shuffle=False)\n",
    "    \n",
    "    # Define loss and optimizer\n",
    "    criterion = nn.CrossEntropyLoss()\n",
    "    optimizer = torch.optim.Adam(model.parameters(), lr=learning_rate)\n",
    "    \n",
    "    # Training loop\n",
    "    for epoch in range(n_epochs):\n",
    "        train_loss = train_model(model, train_loader, criterion, optimizer, device)\n",
    "        accuracy = evaluate_model(model, test_loader, device)\n",
    "        \n",
    "        # Enable pruning (early stopping) based on accuracy\n",
    "        trial.report(accuracy, epoch)\n",
    "        if trial.should_prune():\n",
    "            raise optuna.TrialPruned()\n",
    "    \n",
    "    return accuracy\n",
    "\n"
   ],
   "id": "90e57b11f05ad807"
  },
  {
   "metadata": {},
   "cell_type": "code",
   "outputs": [],
   "execution_count": null,
   "source": [
    "study = optuna.create_study(direction=\"maximize\")\n",
    "study.optimize(objective, timeout=60)\n",
    "\n",
    "# TODO:\n",
    "# Print best trial information\n",
    "# Create visualizations"
   ],
   "id": "b6cde1d0a1caff9e"
  }
 ],
 "metadata": {
  "kernelspec": {
   "display_name": "Python 3",
   "language": "python",
   "name": "python3"
  },
  "language_info": {
   "codemirror_mode": {
    "name": "ipython",
    "version": 2
   },
   "file_extension": ".py",
   "mimetype": "text/x-python",
   "name": "python",
   "nbconvert_exporter": "python",
   "pygments_lexer": "ipython2",
   "version": "2.7.6"
  }
 },
 "nbformat": 4,
 "nbformat_minor": 5
}
