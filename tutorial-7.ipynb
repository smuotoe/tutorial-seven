{
 "cells": [
  {
   "cell_type": "code",
   "id": "initial_id",
   "metadata": {
    "collapsed": true,
    "ExecuteTime": {
     "end_time": "2025-02-22T15:04:05.271858Z",
     "start_time": "2025-02-22T15:04:05.268366Z"
    }
   },
   "source": [
    "import warnings\n",
    "import optuna\n",
    "import numpy as np\n",
    "import pandas as pd\n",
    "from lightgbm import LGBMClassifier\n",
    "from sklearn.datasets import load_breast_cancer\n",
    "from sklearn.model_selection import train_test_split, cross_val_score\n",
    "from sklearn.metrics import accuracy_score\n",
    "\n",
    "warnings.filterwarnings('ignore', category=UserWarning)"
   ],
   "outputs": [],
   "execution_count": 30
  },
  {
   "metadata": {},
   "cell_type": "markdown",
   "source": [
    "## Demo 1\n",
    "Find the value of x that minimizes the function: f(x) = (x - 2)^2 + 1"
   ],
   "id": "a63614f970c805f8"
  },
  {
   "metadata": {},
   "cell_type": "code",
   "source": [
    "# Find the value of x that minimizes the function: f(x) = (x - 2)^2 + 1\n",
    "\n",
    "def objective(trial):\n",
    "    pass\n",
    "\n",
    "# Create and run study\n",
    "study = optuna.create_study(direction='minimize')\n",
    "study.optimize(objective, n_trials=100)"
   ],
   "id": "504af71da0eb537",
   "outputs": [],
   "execution_count": null
  },
  {
   "metadata": {},
   "cell_type": "markdown",
   "source": "",
   "id": "ca9a1f9968cbc6b3"
  },
  {
   "metadata": {},
   "cell_type": "code",
   "source": [
    "print(f\"{study.best_value = }\")\n",
    "print(f\"{study.best_params = }\")"
   ],
   "id": "ac851427f9ba63e3",
   "outputs": [],
   "execution_count": null
  },
  {
   "metadata": {},
   "cell_type": "markdown",
   "source": [
    "## Exercise 1\n",
    "Find the values of x and y that mininize the function: f(x,y) = (x - 2)^2 + (y + 3)^2 + 1"
   ],
   "id": "451f0d4a91424b9e"
  },
  {
   "metadata": {
    "ExecuteTime": {
     "end_time": "2025-02-22T14:52:23.534636Z",
     "start_time": "2025-02-22T14:52:23.534636Z"
    }
   },
   "cell_type": "code",
   "source": [
    "def objective(trial):\n",
    "    pass\n",
    "\n",
    "# Create and run study\n",
    "study = optuna.create_study(direction='minimize')\n",
    "study.optimize(objective, n_trials=100)"
   ],
   "id": "db959359de5a418e",
   "outputs": [],
   "execution_count": null
  },
  {
   "metadata": {},
   "cell_type": "markdown",
   "source": "## Visualization",
   "id": "bc01d35df4708955"
  },
  {
   "metadata": {
    "ExecuteTime": {
     "end_time": "2025-02-22T14:52:23.535637Z",
     "start_time": "2025-02-22T14:52:23.534636Z"
    }
   },
   "cell_type": "code",
   "source": [
    "# Visualize the optimization process\n",
    "\n",
    "# Get optimization history\n",
    "optuna.visualization.plot_optimization_history(study)\n"
   ],
   "id": "87479a0e2916e76d",
   "outputs": [],
   "execution_count": null
  },
  {
   "metadata": {
    "ExecuteTime": {
     "end_time": "2025-02-22T14:52:23.536304Z",
     "start_time": "2025-02-22T14:52:23.536304Z"
    }
   },
   "cell_type": "code",
   "source": [
    "# You can also visualize parameter importance\n",
    "optuna.visualization.plot_param_importances(study)\n"
   ],
   "id": "1c43464e166ebf19",
   "outputs": [],
   "execution_count": null
  },
  {
   "metadata": {},
   "cell_type": "markdown",
   "source": "",
   "id": "a8da7b1cac4f1dba"
  },
  {
   "metadata": {},
   "cell_type": "markdown",
   "source": "## Optimize LightGBM estimator",
   "id": "a37b26a483f1d5c2"
  },
  {
   "metadata": {},
   "cell_type": "markdown",
   "source": "### Prepare Dataset",
   "id": "f496e6866d73d403"
  },
  {
   "metadata": {
    "ExecuteTime": {
     "end_time": "2025-02-22T15:00:13.363391Z",
     "start_time": "2025-02-22T15:00:13.352938Z"
    }
   },
   "cell_type": "code",
   "source": [
    "# Load and prepare data\n",
    "data = load_breast_cancer()\n",
    "print(f\"Dataset shape: {data.data.shape}\")  # 569 samples, 30 features\n",
    "print(\"\\nTarget distribution:\")\n",
    "print(f\"Malignant (0): {(data.target == 0).sum()}\")\n",
    "print(f\"Benign (1): {(data.target == 1).sum()}\")\n",
    "print(\"\\nFeatures:\", data.feature_names.tolist())\n",
    "\n",
    "X_train, X_test, y_train, y_test = train_test_split(\n",
    "    data.data, data.target, test_size=0.2, random_state=42\n",
    ")\n",
    "feature_names = data.feature_names.tolist()\n",
    "X_train = pd.DataFrame(X_train, columns=feature_names)\n",
    "X_test = pd.DataFrame(X_test, columns=feature_names)"
   ],
   "id": "a48afba5ff0a36a0",
   "outputs": [
    {
     "name": "stdout",
     "output_type": "stream",
     "text": [
      "Dataset shape: (569, 30)\n",
      "\n",
      "Target distribution:\n",
      "Malignant (0): 212\n",
      "Benign (1): 357\n",
      "\n",
      "Features: ['mean radius', 'mean texture', 'mean perimeter', 'mean area', 'mean smoothness', 'mean compactness', 'mean concavity', 'mean concave points', 'mean symmetry', 'mean fractal dimension', 'radius error', 'texture error', 'perimeter error', 'area error', 'smoothness error', 'compactness error', 'concavity error', 'concave points error', 'symmetry error', 'fractal dimension error', 'worst radius', 'worst texture', 'worst perimeter', 'worst area', 'worst smoothness', 'worst compactness', 'worst concavity', 'worst concave points', 'worst symmetry', 'worst fractal dimension']\n"
     ]
    }
   ],
   "execution_count": 27
  },
  {
   "metadata": {
    "ExecuteTime": {
     "end_time": "2025-02-22T15:04:54.625890Z",
     "start_time": "2025-02-22T15:04:39.002172Z"
    }
   },
   "cell_type": "code",
   "source": [
    "def objective(trial):\n",
    "    # Define the hyperparameters to optimize\n",
    "    params = {\n",
    "        'learning_rate': trial.suggest_float('learning_rate', 0.01, 0.1),\n",
    "        'n_estimators': trial.suggest_int('n_estimators', 100, 1000),\n",
    "        'num_leaves': trial.suggest_int('num_leaves', 20, 50),\n",
    "        'max_depth': trial.suggest_int('max_depth', 3, 8),\n",
    "        'min_child_samples': trial.suggest_int('min_child_samples', 5, 100),\n",
    "        'subsample': trial.suggest_float('subsample', 0.5, 1.0),\n",
    "        'colsample_bytree': trial.suggest_float('colsample_bytree', 0.5, 1.0),\n",
    "        'verbose': -1  # Add this to suppress LightGBM logger\n",
    "\n",
    "    }\n",
    "    \n",
    "    # Create model with suggested hyperparameters\n",
    "    model = LGBMClassifier(**params, random_state=42)\n",
    "    \n",
    "    # Use cross-validation to evaluate the model\n",
    "    cv_scores = cross_val_score(\n",
    "        model, \n",
    "        X_train, \n",
    "        y_train, \n",
    "        cv=5,\n",
    "        scoring='accuracy'\n",
    "    )\n",
    "    \n",
    "    # Return mean CV score\n",
    "    return 1.0 - cv_scores.mean()  # Minimize 1-accuracy\n",
    "\n",
    "# Create and run study\n",
    "study = optuna.create_study(direction='minimize')\n",
    "study.optimize(objective, n_trials=100)"
   ],
   "id": "9a4326907b1349d9",
   "outputs": [
    {
     "name": "stderr",
     "output_type": "stream",
     "text": [
      "[I 2025-02-22 11:04:39,005] A new study created in memory with name: no-name-137bc311-9ea1-4f42-8229-3b54702cefa8\n",
      "[I 2025-02-22 11:04:39,375] Trial 0 finished with value: 0.03736263736263745 and parameters: {'learning_rate': 0.027088305217947986, 'n_estimators': 825, 'num_leaves': 23, 'max_depth': 8, 'min_child_samples': 53, 'subsample': 0.7261882448689871, 'colsample_bytree': 0.9102264116623434}. Best is trial 0 with value: 0.03736263736263745.\n",
      "[I 2025-02-22 11:04:39,443] Trial 1 finished with value: 0.02637362637362628 and parameters: {'learning_rate': 0.0719234399264858, 'n_estimators': 133, 'num_leaves': 36, 'max_depth': 7, 'min_child_samples': 95, 'subsample': 0.9267079317303797, 'colsample_bytree': 0.6379166434824188}. Best is trial 1 with value: 0.02637362637362628.\n",
      "[I 2025-02-22 11:04:39,632] Trial 2 finished with value: 0.02857142857142847 and parameters: {'learning_rate': 0.06177439300767418, 'n_estimators': 605, 'num_leaves': 21, 'max_depth': 6, 'min_child_samples': 89, 'subsample': 0.5494056930925151, 'colsample_bytree': 0.926480751310186}. Best is trial 1 with value: 0.02637362637362628.\n",
      "[I 2025-02-22 11:04:39,797] Trial 3 finished with value: 0.03296703296703285 and parameters: {'learning_rate': 0.03749726484948858, 'n_estimators': 401, 'num_leaves': 24, 'max_depth': 7, 'min_child_samples': 67, 'subsample': 0.8364419302421493, 'colsample_bytree': 0.7132950768423371}. Best is trial 1 with value: 0.02637362637362628.\n",
      "[I 2025-02-22 11:04:39,925] Trial 4 finished with value: 0.02637362637362628 and parameters: {'learning_rate': 0.0470526159352791, 'n_estimators': 437, 'num_leaves': 21, 'max_depth': 7, 'min_child_samples': 100, 'subsample': 0.6969880714639152, 'colsample_bytree': 0.9053141379831954}. Best is trial 1 with value: 0.02637362637362628.\n",
      "[I 2025-02-22 11:04:40,291] Trial 5 finished with value: 0.04175824175824183 and parameters: {'learning_rate': 0.02065103541515878, 'n_estimators': 442, 'num_leaves': 25, 'max_depth': 6, 'min_child_samples': 26, 'subsample': 0.8792239845010348, 'colsample_bytree': 0.7518399910766166}. Best is trial 1 with value: 0.02637362637362628.\n",
      "[I 2025-02-22 11:04:40,515] Trial 6 finished with value: 0.03076923076923066 and parameters: {'learning_rate': 0.07626918419008848, 'n_estimators': 652, 'num_leaves': 27, 'max_depth': 5, 'min_child_samples': 62, 'subsample': 0.8763747146781906, 'colsample_bytree': 0.5329123524026702}. Best is trial 1 with value: 0.02637362637362628.\n",
      "[I 2025-02-22 11:04:40,838] Trial 7 finished with value: 0.03516483516483526 and parameters: {'learning_rate': 0.05489037992320271, 'n_estimators': 856, 'num_leaves': 21, 'max_depth': 5, 'min_child_samples': 37, 'subsample': 0.5158146738417888, 'colsample_bytree': 0.6575034140013741}. Best is trial 1 with value: 0.02637362637362628.\n",
      "[I 2025-02-22 11:04:40,979] Trial 8 finished with value: 0.03076923076923066 and parameters: {'learning_rate': 0.04055560045687338, 'n_estimators': 256, 'num_leaves': 49, 'max_depth': 4, 'min_child_samples': 40, 'subsample': 0.6744841226693271, 'colsample_bytree': 0.588142022836561}. Best is trial 1 with value: 0.02637362637362628.\n",
      "[I 2025-02-22 11:04:41,326] Trial 9 finished with value: 0.03076923076923066 and parameters: {'learning_rate': 0.03683270358953177, 'n_estimators': 976, 'num_leaves': 49, 'max_depth': 3, 'min_child_samples': 6, 'subsample': 0.6361380204132434, 'colsample_bytree': 0.6601873062063854}. Best is trial 1 with value: 0.02637362637362628.\n",
      "[I 2025-02-22 11:04:41,408] Trial 10 finished with value: 0.02637362637362628 and parameters: {'learning_rate': 0.09547943119876963, 'n_estimators': 113, 'num_leaves': 39, 'max_depth': 8, 'min_child_samples': 79, 'subsample': 0.9999471941851452, 'colsample_bytree': 0.7989242973688259}. Best is trial 1 with value: 0.02637362637362628.\n",
      "[I 2025-02-22 11:04:41,493] Trial 11 finished with value: 0.02857142857142847 and parameters: {'learning_rate': 0.07207405139168344, 'n_estimators': 149, 'num_leaves': 32, 'max_depth': 7, 'min_child_samples': 98, 'subsample': 0.9963847789837782, 'colsample_bytree': 0.8352499168468003}. Best is trial 1 with value: 0.02637362637362628.\n",
      "[I 2025-02-22 11:04:41,627] Trial 12 finished with value: 0.02857142857142847 and parameters: {'learning_rate': 0.08977692271514326, 'n_estimators': 307, 'num_leaves': 39, 'max_depth': 7, 'min_child_samples': 81, 'subsample': 0.8056063177823573, 'colsample_bytree': 0.9582353797052618}. Best is trial 1 with value: 0.02637362637362628.\n",
      "[I 2025-02-22 11:04:41,812] Trial 13 finished with value: 0.02637362637362628 and parameters: {'learning_rate': 0.0488163840876573, 'n_estimators': 493, 'num_leaves': 33, 'max_depth': 7, 'min_child_samples': 100, 'subsample': 0.7504426654582883, 'colsample_bytree': 0.8461560969462535}. Best is trial 1 with value: 0.02637362637362628.\n",
      "[I 2025-02-22 11:04:41,954] Trial 14 finished with value: 0.03296703296703307 and parameters: {'learning_rate': 0.06772295690030601, 'n_estimators': 252, 'num_leaves': 40, 'max_depth': 8, 'min_child_samples': 74, 'subsample': 0.6286555245984025, 'colsample_bytree': 0.5959551036753563}. Best is trial 1 with value: 0.02637362637362628.\n",
      "[I 2025-02-22 11:04:42,207] Trial 15 finished with value: 0.030769230769230882 and parameters: {'learning_rate': 0.011663873789149452, 'n_estimators': 717, 'num_leaves': 44, 'max_depth': 6, 'min_child_samples': 89, 'subsample': 0.9265993833714625, 'colsample_bytree': 0.9969713254431465}. Best is trial 1 with value: 0.02637362637362628.\n",
      "[I 2025-02-22 11:04:42,347] Trial 16 finished with value: 0.02417582417582409 and parameters: {'learning_rate': 0.08256615835956521, 'n_estimators': 349, 'num_leaves': 29, 'max_depth': 7, 'min_child_samples': 88, 'subsample': 0.7628291101476565, 'colsample_bytree': 0.5087605322927331}. Best is trial 16 with value: 0.02417582417582409.\n",
      "[I 2025-02-22 11:04:42,483] Trial 17 finished with value: 0.02637362637362628 and parameters: {'learning_rate': 0.08402191042497957, 'n_estimators': 334, 'num_leaves': 29, 'max_depth': 6, 'min_child_samples': 87, 'subsample': 0.7836806784192735, 'colsample_bytree': 0.5044258753551809}. Best is trial 16 with value: 0.02417582417582409.\n",
      "[I 2025-02-22 11:04:42,610] Trial 18 finished with value: 0.03296703296703285 and parameters: {'learning_rate': 0.08123326074672729, 'n_estimators': 203, 'num_leaves': 35, 'max_depth': 8, 'min_child_samples': 68, 'subsample': 0.9191664529190537, 'colsample_bytree': 0.5640806884674405}. Best is trial 16 with value: 0.02417582417582409.\n",
      "[I 2025-02-22 11:04:42,731] Trial 19 finished with value: 0.03956043956043964 and parameters: {'learning_rate': 0.09959988870271111, 'n_estimators': 109, 'num_leaves': 30, 'max_depth': 5, 'min_child_samples': 53, 'subsample': 0.9197871414011126, 'colsample_bytree': 0.6359609656812083}. Best is trial 16 with value: 0.02417582417582409.\n",
      "[I 2025-02-22 11:04:42,883] Trial 20 finished with value: 0.02417582417582409 and parameters: {'learning_rate': 0.06335299544984435, 'n_estimators': 352, 'num_leaves': 36, 'max_depth': 4, 'min_child_samples': 86, 'subsample': 0.8300411379066852, 'colsample_bytree': 0.691255613578738}. Best is trial 16 with value: 0.02417582417582409.\n",
      "[I 2025-02-22 11:04:43,022] Trial 21 finished with value: 0.0219780219780219 and parameters: {'learning_rate': 0.06289773696575433, 'n_estimators': 337, 'num_leaves': 35, 'max_depth': 3, 'min_child_samples': 88, 'subsample': 0.8505726598555903, 'colsample_bytree': 0.7299723179434713}. Best is trial 21 with value: 0.0219780219780219.\n",
      "[I 2025-02-22 11:04:43,187] Trial 22 finished with value: 0.02857142857142847 and parameters: {'learning_rate': 0.06116017563440399, 'n_estimators': 353, 'num_leaves': 36, 'max_depth': 3, 'min_child_samples': 79, 'subsample': 0.8141437681401323, 'colsample_bytree': 0.7126759298245815}. Best is trial 21 with value: 0.0219780219780219.\n",
      "[I 2025-02-22 11:04:43,387] Trial 23 finished with value: 0.03076923076923066 and parameters: {'learning_rate': 0.0626747395408596, 'n_estimators': 544, 'num_leaves': 42, 'max_depth': 4, 'min_child_samples': 87, 'subsample': 0.7593118135579884, 'colsample_bytree': 0.7439355504248644}. Best is trial 21 with value: 0.0219780219780219.\n",
      "[I 2025-02-22 11:04:43,609] Trial 24 finished with value: 0.03076923076923066 and parameters: {'learning_rate': 0.053969836092092445, 'n_estimators': 518, 'num_leaves': 32, 'max_depth': 4, 'min_child_samples': 62, 'subsample': 0.8368989552442352, 'colsample_bytree': 0.7953005162446296}. Best is trial 21 with value: 0.0219780219780219.\n",
      "[I 2025-02-22 11:04:43,768] Trial 25 finished with value: 0.03296703296703285 and parameters: {'learning_rate': 0.08283195875623248, 'n_estimators': 373, 'num_leaves': 29, 'max_depth': 3, 'min_child_samples': 73, 'subsample': 0.8712253500629397, 'colsample_bytree': 0.7089684787594611}. Best is trial 21 with value: 0.0219780219780219.\n",
      "[I 2025-02-22 11:04:43,909] Trial 26 finished with value: 0.02417582417582409 and parameters: {'learning_rate': 0.09083230774748532, 'n_estimators': 266, 'num_leaves': 45, 'max_depth': 4, 'min_child_samples': 91, 'subsample': 0.7775988761905734, 'colsample_bytree': 0.5001354796132944}. Best is trial 21 with value: 0.0219780219780219.\n",
      "[I 2025-02-22 11:04:44,081] Trial 27 finished with value: 0.02857142857142847 and parameters: {'learning_rate': 0.06614770061377076, 'n_estimators': 458, 'num_leaves': 34, 'max_depth': 3, 'min_child_samples': 83, 'subsample': 0.6958967439406649, 'colsample_bytree': 0.7788380105976798}. Best is trial 21 with value: 0.0219780219780219.\n",
      "[I 2025-02-22 11:04:44,188] Trial 28 finished with value: 0.03516483516483526 and parameters: {'learning_rate': 0.07595209118195705, 'n_estimators': 184, 'num_leaves': 38, 'max_depth': 4, 'min_child_samples': 73, 'subsample': 0.846845895724927, 'colsample_bytree': 0.682935864041474}. Best is trial 21 with value: 0.0219780219780219.\n",
      "[I 2025-02-22 11:04:44,430] Trial 29 finished with value: 0.03296703296703307 and parameters: {'learning_rate': 0.046840249947085924, 'n_estimators': 602, 'num_leaves': 26, 'max_depth': 3, 'min_child_samples': 54, 'subsample': 0.9547790366315605, 'colsample_bytree': 0.8540512952582048}. Best is trial 21 with value: 0.0219780219780219.\n",
      "[I 2025-02-22 11:04:44,662] Trial 30 finished with value: 0.03296703296703307 and parameters: {'learning_rate': 0.05867025864000076, 'n_estimators': 409, 'num_leaves': 31, 'max_depth': 5, 'min_child_samples': 42, 'subsample': 0.7344875605428278, 'colsample_bytree': 0.5831422004934552}. Best is trial 21 with value: 0.0219780219780219.\n",
      "[I 2025-02-22 11:04:44,795] Trial 31 finished with value: 0.02417582417582409 and parameters: {'learning_rate': 0.08867026792446525, 'n_estimators': 277, 'num_leaves': 46, 'max_depth': 4, 'min_child_samples': 93, 'subsample': 0.7873407045426666, 'colsample_bytree': 0.513284573341175}. Best is trial 21 with value: 0.0219780219780219.\n",
      "[I 2025-02-22 11:04:44,908] Trial 32 finished with value: 0.02417582417582409 and parameters: {'learning_rate': 0.09321466606880544, 'n_estimators': 224, 'num_leaves': 46, 'max_depth': 4, 'min_child_samples': 93, 'subsample': 0.7698994002614855, 'colsample_bytree': 0.6225429877822289}. Best is trial 21 with value: 0.0219780219780219.\n",
      "[I 2025-02-22 11:04:45,036] Trial 33 finished with value: 0.02857142857142847 and parameters: {'learning_rate': 0.07109809035697892, 'n_estimators': 298, 'num_leaves': 37, 'max_depth': 3, 'min_child_samples': 93, 'subsample': 0.8113259923638465, 'colsample_bytree': 0.5532106656448725}. Best is trial 21 with value: 0.0219780219780219.\n",
      "[I 2025-02-22 11:04:45,182] Trial 34 finished with value: 0.02857142857142847 and parameters: {'learning_rate': 0.07839729696624798, 'n_estimators': 354, 'num_leaves': 45, 'max_depth': 4, 'min_child_samples': 84, 'subsample': 0.7086346237316361, 'colsample_bytree': 0.5421115209104923}. Best is trial 21 with value: 0.0219780219780219.\n",
      "[I 2025-02-22 11:04:45,322] Trial 35 finished with value: 0.03076923076923066 and parameters: {'learning_rate': 0.08766005346779672, 'n_estimators': 305, 'num_leaves': 42, 'max_depth': 5, 'min_child_samples': 76, 'subsample': 0.8611697435677478, 'colsample_bytree': 0.7512657735960631}. Best is trial 21 with value: 0.0219780219780219.\n",
      "[I 2025-02-22 11:04:45,478] Trial 36 finished with value: 0.02637362637362628 and parameters: {'learning_rate': 0.07164440008868209, 'n_estimators': 405, 'num_leaves': 28, 'max_depth': 3, 'min_child_samples': 93, 'subsample': 0.6587047090056779, 'colsample_bytree': 0.6191985367337827}. Best is trial 21 with value: 0.0219780219780219.\n",
      "[I 2025-02-22 11:04:45,585] Trial 37 finished with value: 0.03956043956043964 and parameters: {'learning_rate': 0.09734300452041993, 'n_estimators': 185, 'num_leaves': 23, 'max_depth': 4, 'min_child_samples': 67, 'subsample': 0.8885241771733177, 'colsample_bytree': 0.6821703278171122}. Best is trial 21 with value: 0.0219780219780219.\n",
      "[I 2025-02-22 11:04:45,765] Trial 38 finished with value: 0.02637362637362628 and parameters: {'learning_rate': 0.027688638071596997, 'n_estimators': 477, 'num_leaves': 42, 'max_depth': 5, 'min_child_samples': 89, 'subsample': 0.731001139529894, 'colsample_bytree': 0.524958511514}. Best is trial 21 with value: 0.0219780219780219.\n",
      "[I 2025-02-22 11:04:46,074] Trial 39 finished with value: 0.03516483516483504 and parameters: {'learning_rate': 0.06633651567316491, 'n_estimators': 602, 'num_leaves': 35, 'max_depth': 6, 'min_child_samples': 16, 'subsample': 0.8230225092070269, 'colsample_bytree': 0.9034026620923709}. Best is trial 21 with value: 0.0219780219780219.\n",
      "[I 2025-02-22 11:04:46,203] Trial 40 finished with value: 0.03516483516483526 and parameters: {'learning_rate': 0.0519563486475485, 'n_estimators': 232, 'num_leaves': 25, 'max_depth': 3, 'min_child_samples': 62, 'subsample': 0.5948082497267477, 'colsample_bytree': 0.5010291217406352}. Best is trial 21 with value: 0.0219780219780219.\n",
      "[I 2025-02-22 11:04:46,325] Trial 41 finished with value: 0.02417582417582409 and parameters: {'learning_rate': 0.08992174579401754, 'n_estimators': 282, 'num_leaves': 49, 'max_depth': 4, 'min_child_samples': 95, 'subsample': 0.784882691538199, 'colsample_bytree': 0.5669637460487718}. Best is trial 21 with value: 0.0219780219780219.\n",
      "[I 2025-02-22 11:04:46,483] Trial 42 finished with value: 0.02857142857142847 and parameters: {'learning_rate': 0.08622567787446289, 'n_estimators': 383, 'num_leaves': 47, 'max_depth': 4, 'min_child_samples': 85, 'subsample': 0.7970809005847012, 'colsample_bytree': 0.5195898085242716}. Best is trial 21 with value: 0.0219780219780219.\n",
      "[I 2025-02-22 11:04:46,610] Trial 43 finished with value: 0.02417582417582409 and parameters: {'learning_rate': 0.09271432068754693, 'n_estimators': 277, 'num_leaves': 47, 'max_depth': 5, 'min_child_samples': 96, 'subsample': 0.8922438345563808, 'colsample_bytree': 0.6028836220347648}. Best is trial 21 with value: 0.0219780219780219.\n",
      "[I 2025-02-22 11:04:46,776] Trial 44 finished with value: 0.02417582417582409 and parameters: {'learning_rate': 0.07917645863579476, 'n_estimators': 429, 'num_leaves': 44, 'max_depth': 4, 'min_child_samples': 91, 'subsample': 0.7706107109038961, 'colsample_bytree': 0.5323653902586726}. Best is trial 21 with value: 0.0219780219780219.\n",
      "[I 2025-02-22 11:04:46,911] Trial 45 finished with value: 0.02417582417582409 and parameters: {'learning_rate': 0.09284359183323934, 'n_estimators': 332, 'num_leaves': 50, 'max_depth': 6, 'min_child_samples': 100, 'subsample': 0.834615440192003, 'colsample_bytree': 0.6618361195416814}. Best is trial 21 with value: 0.0219780219780219.\n",
      "[I 2025-02-22 11:04:47,005] Trial 46 finished with value: 0.02417582417582409 and parameters: {'learning_rate': 0.07295149792221187, 'n_estimators': 159, 'num_leaves': 20, 'max_depth': 3, 'min_child_samples': 80, 'subsample': 0.8524301730425472, 'colsample_bytree': 0.5740155803543872}. Best is trial 21 with value: 0.0219780219780219.\n",
      "[I 2025-02-22 11:04:47,238] Trial 47 finished with value: 0.02417582417582409 and parameters: {'learning_rate': 0.04052236276899066, 'n_estimators': 750, 'num_leaves': 40, 'max_depth': 5, 'min_child_samples': 96, 'subsample': 0.709134595046239, 'colsample_bytree': 0.500501264249402}. Best is trial 21 with value: 0.0219780219780219.\n",
      "[I 2025-02-22 11:04:47,357] Trial 48 finished with value: 0.03076923076923066 and parameters: {'learning_rate': 0.07665009106366624, 'n_estimators': 256, 'num_leaves': 43, 'max_depth': 7, 'min_child_samples': 77, 'subsample': 0.7985841364440449, 'colsample_bytree': 0.8162966207474942}. Best is trial 21 with value: 0.0219780219780219.\n",
      "[I 2025-02-22 11:04:47,495] Trial 49 finished with value: 0.02417582417582409 and parameters: {'learning_rate': 0.058359875546803726, 'n_estimators': 325, 'num_leaves': 40, 'max_depth': 4, 'min_child_samples': 83, 'subsample': 0.7805828348000846, 'colsample_bytree': 0.8809526148196143}. Best is trial 21 with value: 0.0219780219780219.\n",
      "[I 2025-02-22 11:04:47,602] Trial 50 finished with value: 0.03296703296703307 and parameters: {'learning_rate': 0.08590700394905426, 'n_estimators': 152, 'num_leaves': 37, 'max_depth': 8, 'min_child_samples': 68, 'subsample': 0.7413551465806424, 'colsample_bytree': 0.7372923918428048}. Best is trial 21 with value: 0.0219780219780219.\n",
      "[I 2025-02-22 11:04:47,727] Trial 51 finished with value: 0.0219780219780219 and parameters: {'learning_rate': 0.09412165362991731, 'n_estimators': 189, 'num_leaves': 46, 'max_depth': 4, 'min_child_samples': 90, 'subsample': 0.7620720482422094, 'colsample_bytree': 0.6443783154392928}. Best is trial 21 with value: 0.0219780219780219.\n",
      "[I 2025-02-22 11:04:47,862] Trial 52 finished with value: 0.0219780219780219 and parameters: {'learning_rate': 0.09656442642701558, 'n_estimators': 209, 'num_leaves': 48, 'max_depth': 4, 'min_child_samples': 89, 'subsample': 0.7534196786364866, 'colsample_bytree': 0.6903123531975116}. Best is trial 21 with value: 0.0219780219780219.\n",
      "[I 2025-02-22 11:04:47,979] Trial 53 finished with value: 0.03076923076923066 and parameters: {'learning_rate': 0.09918246354502631, 'n_estimators': 217, 'num_leaves': 48, 'max_depth': 4, 'min_child_samples': 89, 'subsample': 0.7505692412808851, 'colsample_bytree': 0.6915888552579704}. Best is trial 21 with value: 0.0219780219780219.\n",
      "[I 2025-02-22 11:04:48,280] Trial 54 finished with value: 0.03296703296703285 and parameters: {'learning_rate': 0.09551475334066686, 'n_estimators': 991, 'num_leaves': 50, 'max_depth': 5, 'min_child_samples': 86, 'subsample': 0.6848276381534036, 'colsample_bytree': 0.772820465869998}. Best is trial 21 with value: 0.0219780219780219.\n",
      "[I 2025-02-22 11:04:48,365] Trial 55 finished with value: 0.026373626373626502 and parameters: {'learning_rate': 0.09172291884743786, 'n_estimators': 107, 'num_leaves': 33, 'max_depth': 7, 'min_child_samples': 81, 'subsample': 0.7128918489193962, 'colsample_bytree': 0.7298530545300719}. Best is trial 21 with value: 0.0219780219780219.\n",
      "[I 2025-02-22 11:04:48,483] Trial 56 finished with value: 0.02857142857142847 and parameters: {'learning_rate': 0.08126233908757735, 'n_estimators': 181, 'num_leaves': 23, 'max_depth': 3, 'min_child_samples': 31, 'subsample': 0.8226660644513933, 'colsample_bytree': 0.6547771328799521}. Best is trial 21 with value: 0.0219780219780219.\n",
      "[I 2025-02-22 11:04:48,624] Trial 57 finished with value: 0.02417582417582409 and parameters: {'learning_rate': 0.09689296772165698, 'n_estimators': 366, 'num_leaves': 45, 'max_depth': 4, 'min_child_samples': 97, 'subsample': 0.8999249441819074, 'colsample_bytree': 0.697528845923532}. Best is trial 21 with value: 0.0219780219780219.\n",
      "[I 2025-02-22 11:04:48,758] Trial 58 finished with value: 0.02417582417582409 and parameters: {'learning_rate': 0.08608593249804594, 'n_estimators': 245, 'num_leaves': 48, 'max_depth': 3, 'min_child_samples': 90, 'subsample': 0.7594628177952414, 'colsample_bytree': 0.7220178764886971}. Best is trial 21 with value: 0.0219780219780219.\n",
      "[I 2025-02-22 11:04:48,853] Trial 59 finished with value: 0.030769230769230882 and parameters: {'learning_rate': 0.06406863040412768, 'n_estimators': 135, 'num_leaves': 41, 'max_depth': 5, 'min_child_samples': 72, 'subsample': 0.9515719578876312, 'colsample_bytree': 0.6695908761941021}. Best is trial 21 with value: 0.0219780219780219.\n",
      "[I 2025-02-22 11:04:48,953] Trial 60 finished with value: 0.02637362637362628 and parameters: {'learning_rate': 0.09476617560897804, 'n_estimators': 204, 'num_leaves': 27, 'max_depth': 4, 'min_child_samples': 100, 'subsample': 0.6574871559631735, 'colsample_bytree': 0.6400801304008035}. Best is trial 21 with value: 0.0219780219780219.\n",
      "[I 2025-02-22 11:04:49,084] Trial 61 finished with value: 0.02637362637362628 and parameters: {'learning_rate': 0.08893205794555892, 'n_estimators': 271, 'num_leaves': 46, 'max_depth': 4, 'min_child_samples': 92, 'subsample': 0.788402438809611, 'colsample_bytree': 0.5458210918304497}. Best is trial 21 with value: 0.0219780219780219.\n",
      "[I 2025-02-22 11:04:49,228] Trial 62 finished with value: 0.02637362637362628 and parameters: {'learning_rate': 0.08311639659162572, 'n_estimators': 309, 'num_leaves': 45, 'max_depth': 4, 'min_child_samples': 87, 'subsample': 0.721255401109125, 'colsample_bytree': 0.7016137404736338}. Best is trial 21 with value: 0.0219780219780219.\n",
      "[I 2025-02-22 11:04:49,347] Trial 63 finished with value: 0.02857142857142847 and parameters: {'learning_rate': 0.09954923339293512, 'n_estimators': 245, 'num_leaves': 48, 'max_depth': 4, 'min_child_samples': 82, 'subsample': 0.7717396851555811, 'colsample_bytree': 0.762406872091636}. Best is trial 21 with value: 0.0219780219780219.\n",
      "[I 2025-02-22 11:04:49,503] Trial 64 finished with value: 0.03296703296703285 and parameters: {'learning_rate': 0.09003824276698313, 'n_estimators': 343, 'num_leaves': 44, 'max_depth': 6, 'min_child_samples': 77, 'subsample': 0.8333418674201183, 'colsample_bytree': 0.5123062735820861}. Best is trial 21 with value: 0.0219780219780219.\n",
      "[I 2025-02-22 11:04:49,674] Trial 65 finished with value: 0.02857142857142847 and parameters: {'learning_rate': 0.07454902479608841, 'n_estimators': 417, 'num_leaves': 46, 'max_depth': 3, 'min_child_samples': 88, 'subsample': 0.8080245632756967, 'colsample_bytree': 0.606273140358621}. Best is trial 21 with value: 0.0219780219780219.\n",
      "[I 2025-02-22 11:04:49,953] Trial 66 finished with value: 0.03296703296703307 and parameters: {'learning_rate': 0.07864340936204678, 'n_estimators': 889, 'num_leaves': 30, 'max_depth': 4, 'min_child_samples': 47, 'subsample': 0.7479308446471988, 'colsample_bytree': 0.6410915806583086}. Best is trial 21 with value: 0.0219780219780219.\n",
      "[I 2025-02-22 11:04:50,088] Trial 67 finished with value: 0.02857142857142847 and parameters: {'learning_rate': 0.0592644895963719, 'n_estimators': 287, 'num_leaves': 43, 'max_depth': 3, 'min_child_samples': 93, 'subsample': 0.8655767822769469, 'colsample_bytree': 0.551220411499909}. Best is trial 21 with value: 0.0219780219780219.\n",
      "[I 2025-02-22 11:04:50,247] Trial 68 finished with value: 0.03076923076923066 and parameters: {'learning_rate': 0.06838049017790994, 'n_estimators': 388, 'num_leaves': 47, 'max_depth': 5, 'min_child_samples': 85, 'subsample': 0.501083113230651, 'colsample_bytree': 0.6774671755208946}. Best is trial 21 with value: 0.0219780219780219.\n",
      "[I 2025-02-22 11:04:50,344] Trial 69 finished with value: 0.02637362637362628 and parameters: {'learning_rate': 0.0840939025730659, 'n_estimators': 173, 'num_leaves': 34, 'max_depth': 4, 'min_child_samples': 98, 'subsample': 0.7282821894942436, 'colsample_bytree': 0.5317342370991642}. Best is trial 21 with value: 0.0219780219780219.\n",
      "[I 2025-02-22 11:04:50,546] Trial 70 finished with value: 0.03516483516483526 and parameters: {'learning_rate': 0.04573959644621344, 'n_estimators': 465, 'num_leaves': 49, 'max_depth': 3, 'min_child_samples': 71, 'subsample': 0.8221334359390299, 'colsample_bytree': 0.7274567107799261}. Best is trial 21 with value: 0.0219780219780219.\n",
      "[I 2025-02-22 11:04:50,671] Trial 71 finished with value: 0.02417582417582409 and parameters: {'learning_rate': 0.09358567571007596, 'n_estimators': 237, 'num_leaves': 46, 'max_depth': 4, 'min_child_samples': 94, 'subsample': 0.7652221080168548, 'colsample_bytree': 0.6270857502732675}. Best is trial 21 with value: 0.0219780219780219.\n",
      "[I 2025-02-22 11:04:50,785] Trial 72 finished with value: 0.0219780219780219 and parameters: {'learning_rate': 0.09691170600455447, 'n_estimators': 212, 'num_leaves': 46, 'max_depth': 4, 'min_child_samples': 90, 'subsample': 0.7949446309371309, 'colsample_bytree': 0.5882250247631834}. Best is trial 21 with value: 0.0219780219780219.\n",
      "[I 2025-02-22 11:04:50,897] Trial 73 finished with value: 0.02417582417582409 and parameters: {'learning_rate': 0.09680675896126545, 'n_estimators': 207, 'num_leaves': 43, 'max_depth': 4, 'min_child_samples': 90, 'subsample': 0.8032280097810981, 'colsample_bytree': 0.594287740356778}. Best is trial 21 with value: 0.0219780219780219.\n",
      "[I 2025-02-22 11:04:51,034] Trial 74 finished with value: 0.02637362637362628 and parameters: {'learning_rate': 0.08822600146157289, 'n_estimators': 312, 'num_leaves': 45, 'max_depth': 4, 'min_child_samples': 85, 'subsample': 0.8476605208017948, 'colsample_bytree': 0.57650664141379}. Best is trial 21 with value: 0.0219780219780219.\n",
      "[I 2025-02-22 11:04:51,127] Trial 75 finished with value: 0.030769230769230882 and parameters: {'learning_rate': 0.09058979190140504, 'n_estimators': 128, 'num_leaves': 38, 'max_depth': 5, 'min_child_samples': 78, 'subsample': 0.7964899490593185, 'colsample_bytree': 0.563933995034673}. Best is trial 21 with value: 0.0219780219780219.\n",
      "[I 2025-02-22 11:04:51,259] Trial 76 finished with value: 0.02417582417582409 and parameters: {'learning_rate': 0.09816995370184384, 'n_estimators': 266, 'num_leaves': 47, 'max_depth': 8, 'min_child_samples': 92, 'subsample': 0.7809652981109005, 'colsample_bytree': 0.5137427856315541}. Best is trial 21 with value: 0.0219780219780219.\n",
      "[I 2025-02-22 11:04:51,361] Trial 77 finished with value: 0.03296703296703307 and parameters: {'learning_rate': 0.031166362046157636, 'n_estimators': 190, 'num_leaves': 31, 'max_depth': 4, 'min_child_samples': 95, 'subsample': 0.7402179813685335, 'colsample_bytree': 0.611958812360412}. Best is trial 21 with value: 0.0219780219780219.\n",
      "[I 2025-02-22 11:04:51,473] Trial 78 finished with value: 0.02637362637362628 and parameters: {'learning_rate': 0.0947576744551856, 'n_estimators': 221, 'num_leaves': 44, 'max_depth': 3, 'min_child_samples': 98, 'subsample': 0.7500884637791625, 'colsample_bytree': 0.6507568573924077}. Best is trial 21 with value: 0.0219780219780219.\n",
      "[I 2025-02-22 11:04:51,662] Trial 79 finished with value: 0.02637362637362628 and parameters: {'learning_rate': 0.05260537009402142, 'n_estimators': 444, 'num_leaves': 41, 'max_depth': 4, 'min_child_samples': 81, 'subsample': 0.8802312365939884, 'colsample_bytree': 0.7098801824229678}. Best is trial 21 with value: 0.0219780219780219.\n",
      "[I 2025-02-22 11:04:51,832] Trial 80 finished with value: 0.02637362637362628 and parameters: {'learning_rate': 0.05638476726635503, 'n_estimators': 354, 'num_leaves': 36, 'max_depth': 5, 'min_child_samples': 87, 'subsample': 0.8155598668998635, 'colsample_bytree': 0.5370842421101156}. Best is trial 21 with value: 0.0219780219780219.\n",
      "[I 2025-02-22 11:04:51,963] Trial 81 finished with value: 0.0219780219780219 and parameters: {'learning_rate': 0.09212322128187356, 'n_estimators': 266, 'num_leaves': 46, 'max_depth': 4, 'min_child_samples': 91, 'subsample': 0.7731757528804808, 'colsample_bytree': 0.6284743209306639}. Best is trial 21 with value: 0.0219780219780219.\n",
      "[I 2025-02-22 11:04:52,095] Trial 82 finished with value: 0.0219780219780219 and parameters: {'learning_rate': 0.08684130115525134, 'n_estimators': 292, 'num_leaves': 48, 'max_depth': 4, 'min_child_samples': 90, 'subsample': 0.7908232768929503, 'colsample_bytree': 0.6321430131303385}. Best is trial 21 with value: 0.0219780219780219.\n",
      "[I 2025-02-22 11:04:52,241] Trial 83 finished with value: 0.030769230769230882 and parameters: {'learning_rate': 0.09158390616423681, 'n_estimators': 324, 'num_leaves': 49, 'max_depth': 4, 'min_child_samples': 83, 'subsample': 0.7714776578177382, 'colsample_bytree': 0.6698858273103593}. Best is trial 21 with value: 0.0219780219780219.\n",
      "[I 2025-02-22 11:04:52,387] Trial 84 finished with value: 0.03296703296703307 and parameters: {'learning_rate': 0.017838042688198573, 'n_estimators': 288, 'num_leaves': 48, 'max_depth': 4, 'min_child_samples': 89, 'subsample': 0.7572083148606108, 'colsample_bytree': 0.631012908427424}. Best is trial 21 with value: 0.0219780219780219.\n",
      "[I 2025-02-22 11:04:52,489] Trial 85 finished with value: 0.03296703296703285 and parameters: {'learning_rate': 0.08518637757543912, 'n_estimators': 166, 'num_leaves': 50, 'max_depth': 4, 'min_child_samples': 75, 'subsample': 0.8357965737741438, 'colsample_bytree': 0.6889079365099092}. Best is trial 21 with value: 0.0219780219780219.\n",
      "[I 2025-02-22 11:04:52,617] Trial 86 finished with value: 0.0219780219780219 and parameters: {'learning_rate': 0.09595033575959258, 'n_estimators': 253, 'num_leaves': 47, 'max_depth': 4, 'min_child_samples': 90, 'subsample': 0.7895118784794214, 'colsample_bytree': 0.6470035760684107}. Best is trial 21 with value: 0.0219780219780219.\n",
      "[I 2025-02-22 11:04:52,779] Trial 87 finished with value: 0.03516483516483504 and parameters: {'learning_rate': 0.09477219322256783, 'n_estimators': 143, 'num_leaves': 47, 'max_depth': 3, 'min_child_samples': 9, 'subsample': 0.7956654974417058, 'colsample_bytree': 0.6492409751055465}. Best is trial 21 with value: 0.0219780219780219.\n",
      "[I 2025-02-22 11:04:52,987] Trial 88 finished with value: 0.03296703296703285 and parameters: {'learning_rate': 0.0813469602049216, 'n_estimators': 515, 'num_leaves': 48, 'max_depth': 4, 'min_child_samples': 87, 'subsample': 0.8521945160057199, 'colsample_bytree': 0.6152840491598509}. Best is trial 21 with value: 0.0219780219780219.\n",
      "[I 2025-02-22 11:04:53,111] Trial 89 finished with value: 0.02857142857142847 and parameters: {'learning_rate': 0.09675042559734963, 'n_estimators': 224, 'num_leaves': 49, 'max_depth': 6, 'min_child_samples': 79, 'subsample': 0.8135790664232226, 'colsample_bytree': 0.6640169293895355}. Best is trial 21 with value: 0.0219780219780219.\n",
      "[I 2025-02-22 11:04:53,233] Trial 90 finished with value: 0.02637362637362628 and parameters: {'learning_rate': 0.0701078181620538, 'n_estimators': 251, 'num_leaves': 47, 'max_depth': 4, 'min_child_samples': 98, 'subsample': 0.6966448554635416, 'colsample_bytree': 0.6787842198155034}. Best is trial 21 with value: 0.0219780219780219.\n",
      "[I 2025-02-22 11:04:53,399] Trial 91 finished with value: 0.03296703296703285 and parameters: {'learning_rate': 0.08759294629743074, 'n_estimators': 300, 'num_leaves': 45, 'max_depth': 4, 'min_child_samples': 59, 'subsample': 0.7778597235005209, 'colsample_bytree': 0.5898518028193264}. Best is trial 21 with value: 0.0219780219780219.\n",
      "[I 2025-02-22 11:04:53,520] Trial 92 finished with value: 0.02637362637362628 and parameters: {'learning_rate': 0.0915891821603161, 'n_estimators': 198, 'num_leaves': 46, 'max_depth': 4, 'min_child_samples': 91, 'subsample': 0.7861045151446887, 'colsample_bytree': 0.6260489306418058}. Best is trial 21 with value: 0.0219780219780219.\n",
      "[I 2025-02-22 11:04:53,642] Trial 93 finished with value: 0.0219780219780219 and parameters: {'learning_rate': 0.0932911315253072, 'n_estimators': 264, 'num_leaves': 49, 'max_depth': 5, 'min_child_samples': 84, 'subsample': 0.7613546653679455, 'colsample_bytree': 0.6437875366969816}. Best is trial 21 with value: 0.0219780219780219.\n",
      "[I 2025-02-22 11:04:53,826] Trial 94 finished with value: 0.02637362637362628 and parameters: {'learning_rate': 0.09931630674598445, 'n_estimators': 390, 'num_leaves': 50, 'max_depth': 5, 'min_child_samples': 84, 'subsample': 0.7226474472909544, 'colsample_bytree': 0.6429138063058953}. Best is trial 21 with value: 0.0219780219780219.\n",
      "[I 2025-02-22 11:04:53,980] Trial 95 finished with value: 0.02857142857142847 and parameters: {'learning_rate': 0.09585499943405605, 'n_estimators': 333, 'num_leaves': 48, 'max_depth': 5, 'min_child_samples': 95, 'subsample': 0.7604385005995603, 'colsample_bytree': 0.601094441266981}. Best is trial 21 with value: 0.0219780219780219.\n",
      "[I 2025-02-22 11:04:54,141] Trial 96 finished with value: 0.03076923076923066 and parameters: {'learning_rate': 0.0999060590972772, 'n_estimators': 366, 'num_leaves': 24, 'max_depth': 7, 'min_child_samples': 88, 'subsample': 0.7379748336919395, 'colsample_bytree': 0.7159605702951543}. Best is trial 21 with value: 0.0219780219780219.\n",
      "[I 2025-02-22 11:04:54,272] Trial 97 finished with value: 0.02857142857142847 and parameters: {'learning_rate': 0.09301951509775626, 'n_estimators': 259, 'num_leaves': 49, 'max_depth': 4, 'min_child_samples': 85, 'subsample': 0.8262913018638267, 'colsample_bytree': 0.6569759467269977}. Best is trial 21 with value: 0.0219780219780219.\n",
      "[I 2025-02-22 11:04:54,477] Trial 98 finished with value: 0.02857142857142847 and parameters: {'learning_rate': 0.0874175364285372, 'n_estimators': 572, 'num_leaves': 32, 'max_depth': 5, 'min_child_samples': 91, 'subsample': 0.7931971082803009, 'colsample_bytree': 0.701686936572663}. Best is trial 21 with value: 0.0219780219780219.\n",
      "[I 2025-02-22 11:04:54,623] Trial 99 finished with value: 0.02857142857142847 and parameters: {'learning_rate': 0.06178219539261061, 'n_estimators': 315, 'num_leaves': 28, 'max_depth': 6, 'min_child_samples': 82, 'subsample': 0.5703698609018991, 'colsample_bytree': 0.6375964479226904}. Best is trial 21 with value: 0.0219780219780219.\n"
     ]
    }
   ],
   "execution_count": 31
  },
  {
   "metadata": {
    "ExecuteTime": {
     "end_time": "2025-02-22T15:07:16.326077Z",
     "start_time": "2025-02-22T15:07:16.322543Z"
    }
   },
   "cell_type": "code",
   "source": [
    "print(f\"{study.best_params}\")\n",
    "print(f\"{(1 - study.best_value) * 100:.2f}%\")"
   ],
   "id": "cf671c47ae1a69c",
   "outputs": [
    {
     "name": "stdout",
     "output_type": "stream",
     "text": [
      "{'learning_rate': 0.06289773696575433, 'n_estimators': 337, 'num_leaves': 35, 'max_depth': 3, 'min_child_samples': 88, 'subsample': 0.8505726598555903, 'colsample_bytree': 0.7299723179434713}\n",
      "97.80%\n",
      "FrozenTrial(number=21, state=1, values=[0.0219780219780219], datetime_start=datetime.datetime(2025, 2, 22, 11, 4, 42, 884446), datetime_complete=datetime.datetime(2025, 2, 22, 11, 4, 43, 22044), params={'learning_rate': 0.06289773696575433, 'n_estimators': 337, 'num_leaves': 35, 'max_depth': 3, 'min_child_samples': 88, 'subsample': 0.8505726598555903, 'colsample_bytree': 0.7299723179434713}, user_attrs={}, system_attrs={}, intermediate_values={}, distributions={'learning_rate': FloatDistribution(high=0.1, log=False, low=0.01, step=None), 'n_estimators': IntDistribution(high=1000, log=False, low=100, step=1), 'num_leaves': IntDistribution(high=50, log=False, low=20, step=1), 'max_depth': IntDistribution(high=8, log=False, low=3, step=1), 'min_child_samples': IntDistribution(high=100, log=False, low=5, step=1), 'subsample': FloatDistribution(high=1.0, log=False, low=0.5, step=None), 'colsample_bytree': FloatDistribution(high=1.0, log=False, low=0.5, step=None)}, trial_id=21, value=None)\n"
     ]
    }
   ],
   "execution_count": 37
  },
  {
   "metadata": {},
   "cell_type": "code",
   "outputs": [],
   "execution_count": null,
   "source": "",
   "id": "affbee2eff4654f0"
  },
  {
   "metadata": {},
   "cell_type": "markdown",
   "source": "## Exercise 2:",
   "id": "e44fe6382f166fb8"
  },
  {
   "metadata": {},
   "cell_type": "code",
   "outputs": [],
   "execution_count": null,
   "source": [
    "import optuna\n",
    "import torch\n",
    "import torch.nn as nn\n",
    "from sklearn.preprocessing import StandardScaler\n",
    "import numpy as np\n",
    "from torch.utils.data import TensorDataset, DataLoader\n",
    "\n",
    "# Set random seeds for reproducibility\n",
    "torch.manual_seed(42)\n",
    "np.random.seed(42)\n",
    "\n",
    "scaler = StandardScaler()\n",
    "# Using the same breast cancer dataset defined above\n",
    "X_train = scaler.fit_transform(X_train)\n",
    "X_test = scaler.transform(X_test)\n",
    "\n",
    "# Convert to PyTorch tensors\n",
    "X_train = torch.FloatTensor(X_train)\n",
    "y_train = torch.LongTensor(y_train)\n",
    "X_test = torch.FloatTensor(X_test)\n",
    "y_test = torch.LongTensor(y_test)\n",
    "\n",
    "class SimpleNet(nn.Module):\n",
    "    def __init__(self, input_size, hidden_size, dropout_rate=0.1):\n",
    "        super(SimpleNet, self).__init__()\n",
    "        self.layer = nn.Linear(input_size, hidden_size)\n",
    "        self.activation = nn.ReLU()\n",
    "        self.dropout = nn.Dropout(dropout_rate)\n",
    "        self.output = nn.Linear(hidden_size, 2)\n",
    "        \n",
    "    def forward(self, x):\n",
    "        x = self.layer(x)\n",
    "        x = self.activation(x)\n",
    "        x = self.dropout(x)\n",
    "        x = self.output(x)\n",
    "        return x\n",
    "\n",
    "def train_model(model, train_loader, criterion, optimizer, device='cpu'):\n",
    "    model.train()\n",
    "    total_loss = 0\n",
    "    for batch_X, batch_y in train_loader:\n",
    "        batch_X, batch_y = batch_X.to(device), batch_y.to(device)\n",
    "        \n",
    "        optimizer.zero_grad()\n",
    "        outputs = model(batch_X)\n",
    "        loss = criterion(outputs, batch_y)\n",
    "        loss.backward()\n",
    "        optimizer.step()\n",
    "        \n",
    "        total_loss += loss.item()\n",
    "    return total_loss / len(train_loader)\n",
    "\n",
    "def evaluate_model(model, test_loader, device='cpu'):\n",
    "    model.eval()\n",
    "    correct = 0\n",
    "    total = 0\n",
    "    with torch.no_grad():\n",
    "        for batch_X, batch_y in test_loader:\n",
    "            batch_X, batch_y = batch_X.to(device), batch_y.to(device)\n",
    "            outputs = model(batch_X)\n",
    "            _, predicted = torch.max(outputs.data, 1)\n",
    "            total += batch_y.size(0)\n",
    "            correct += (predicted == batch_y).sum().item()\n",
    "    return correct / total\n",
    "\n",
    "def objective(trial):\n",
    "    # Student Task 1: Define hyperparameters to optimize\n",
    "    # Use trial.suggest_float, trial.suggest_int, etc.\n",
    "    # Example format:\n",
    "    # hidden_size = trial.suggest_int('hidden_size', min_value, max_value)\n",
    "    # learning_rate = \n",
    "    # dropout_rate = \n",
    "    # batch_size = \n",
    "    # n_epochs = \n",
    "    \n",
    "    # Create model and move to device\n",
    "    device = torch.device('cuda' if torch.cuda.is_available() else 'cpu')\n",
    "    model = SimpleNet(input_size=20, \n",
    "                     hidden_size=hidden_size, \n",
    "                     dropout_rate=dropout_rate).to(device)\n",
    "    \n",
    "    # Create data loaders\n",
    "    train_dataset = TensorDataset(X_train, y_train)\n",
    "    train_loader = DataLoader(train_dataset, batch_size=batch_size, shuffle=True)\n",
    "    test_dataset = TensorDataset(X_test, y_test)\n",
    "    test_loader = DataLoader(test_dataset, batch_size=batch_size, shuffle=False)\n",
    "    \n",
    "    # Define loss and optimizer\n",
    "    criterion = nn.CrossEntropyLoss()\n",
    "    optimizer = torch.optim.Adam(model.parameters(), lr=learning_rate)\n",
    "    \n",
    "    # Training loop\n",
    "    for epoch in range(n_epochs):\n",
    "        train_loss = train_model(model, train_loader, criterion, optimizer, device)\n",
    "        accuracy = evaluate_model(model, test_loader, device)\n",
    "        \n",
    "        # Enable pruning (early stopping) based on accuracy\n",
    "        trial.report(accuracy, epoch)\n",
    "        if trial.should_prune():\n",
    "            raise optuna.TrialPruned()\n",
    "    \n",
    "    return accuracy\n",
    "\n"
   ],
   "id": "90e57b11f05ad807"
  },
  {
   "metadata": {},
   "cell_type": "code",
   "outputs": [],
   "execution_count": null,
   "source": [
    "study = optuna.create_study(direction=\"maximize\")\n",
    "study.optimize(objective, timeout=60)\n",
    "\n",
    "# TODO:\n",
    "# Print best trial information\n",
    "# Create visualizations"
   ],
   "id": "b6cde1d0a1caff9e"
  }
 ],
 "metadata": {
  "kernelspec": {
   "display_name": "Python 3",
   "language": "python",
   "name": "python3"
  },
  "language_info": {
   "codemirror_mode": {
    "name": "ipython",
    "version": 2
   },
   "file_extension": ".py",
   "mimetype": "text/x-python",
   "name": "python",
   "nbconvert_exporter": "python",
   "pygments_lexer": "ipython2",
   "version": "2.7.6"
  }
 },
 "nbformat": 4,
 "nbformat_minor": 5
}
